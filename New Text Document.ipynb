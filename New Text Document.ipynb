{
  "cells": [
    {
      "cell_type": "markdown",
      "metadata": {
        "id": "view-in-github",
        "colab_type": "text"
      },
      "source": [
        "<a href=\"https://colab.research.google.com/github/AmrEL3taaL/mesba7/blob/main/New%20Text%20Document.ipynb\" target=\"_parent\"><img src=\"https://colab.research.google.com/assets/colab-badge.svg\" alt=\"Open In Colab\"/></a>"
      ]
    },
    {
      "cell_type": "code",
      "execution_count": null,
      "metadata": {
        "id": "SrhhqK9pfOfj"
      },
      "outputs": [],
      "source": [
        "print(\"Hello amr 100EGP\")"
      ]
    },
    {
      "cell_type": "code",
      "source": [
        "print(\"tolba\")"
      ],
      "metadata": {
        "id": "o2uWnQidfR2J"
      },
      "execution_count": null,
      "outputs": []
    }
  ],
  "metadata": {
    "language_info": {
      "name": "python"
    },
    "colab": {
      "provenance": [],
      "include_colab_link": true
    }
  },
  "nbformat": 4,
  "nbformat_minor": 0
}